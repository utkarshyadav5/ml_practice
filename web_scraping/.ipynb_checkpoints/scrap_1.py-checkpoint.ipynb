{
 "cells": [
  {
   "cell_type": "markdown",
   "metadata": {},
   "source": [
    "## Web Scraping\n",
    "\n",
    "\n",
    "**Tools Used**\n",
    "- urllib2\n",
    "- BeautifulSoup"
   ]
  },
  {
   "cell_type": "code",
   "execution_count": null,
   "metadata": {
    "collapsed": false
   },
   "outputs": [],
   "source": [
    "#importing required files\n",
    "\n",
    "from bs4 import BeautifulSoup\n",
    "from urllib2 import urlopen\n",
    "from time import sleep\n",
    "\n",
    "BASE_URL = \"http://www.chicagoreader.com\"\n",
    "\n",
    "def make_soup(url):\n",
    "    html=urlopen(url).read()\n",
    "    return BeautifulSoup(html,\"lxml\")\n",
    "\n",
    "def get_category_links(section_url):\n",
    "    soup=make_soup(section_url)\n",
    "    boccat=soup.find(\"dl\",\"boccat\")\n",
    "    category_links=[BASE_URL + dd.a[\"href\"] for dd in boccat.findAll(\"dd\")]\n",
    "    return category_links\n",
    "\n",
    "def get_category_winner(category_url):\n",
    "    soup=make_soup(category_url)\n",
    "    category=soup.find(\"h1\",\"headline\").string\n",
    "    winner=[h2.string for h2 in soup.findAll(\"h2\",\"boc1\")]\n",
    "    runners_up=[h2.string for h2 in soup.findAll(\"h2\",\"boc2\")]\n",
    "    return {\"category\":category,\n",
    "            \"category_url\":category_url,\n",
    "            \"winner\":winner,\n",
    "            \"runners_up\":runners_up}\n",
    "\n",
    "if __name__ == '__main__':\n",
    "    food_n_drink = (\"https://www.chicagoreader.com/chicago/\"\n",
    "                    \"best-of-chicago-2011-food-drink/BestOf?oid=4106228\")\n",
    "\n",
    "    categories = get_category_links(food_n_drink)\n",
    "    \n",
    "    data = [] # a list to store our dictionaries\n",
    "    for category in categories:\n",
    "        winner = get_category_winner(category)\n",
    "        data.append(winner)\n",
    "        sleep(1) # be nice\n",
    "\n",
    "        print data"
   ]
  }
 ],
 "metadata": {
  "kernelspec": {
   "display_name": "Python 2",
   "language": "python",
   "name": "python2"
  },
  "language_info": {
   "codemirror_mode": {
    "name": "ipython",
    "version": 2
   },
   "file_extension": ".py",
   "mimetype": "text/x-python",
   "name": "python",
   "nbconvert_exporter": "python",
   "pygments_lexer": "ipython2",
   "version": "2.7.13"
  }
 },
 "nbformat": 4,
 "nbformat_minor": 2
}
